{
 "cells": [
  {
   "cell_type": "markdown",
   "metadata": {},
   "source": [
    "# Preprocessing for Cityscapes\n",
    "\n",
    "This notebooks explains: \n",
    "- how to download data w/o browser from Cityscapes\n",
    "- preprocess it such that data is is in format expected by search script\n",
    "\n",
    "This preprocessing produces in `$DATAPATH` the following output structure:\n",
    "\n",
    "```\n",
    "Cityscapes/\n",
    "           raw/\n",
    "               leftImg/\n",
    "                       train/\n",
    "                             aachen/\n",
    "                                    - aachen_000000_000019_leftImg8bit.png\n",
    "                                    - aachen_000001_000019_leftImg8bit.png\n",
    "                       val/ \n",
    "                           frankfurt/\n",
    "                                    - frankfurt...\n",
    "                                    - ...\n",
    "                       test/\n",
    "                            ...\n",
    "               gtFine/\n",
    "                      train/\n",
    "                            aachen/\n",
    "                                   - aachen_000000_000019_gtFine_labelIds.png\n",
    "                                   - aachen_000001_000019_gtFine_labelIds.png\n",
    "                                   - ...\n",
    "                      val/ \n",
    "                          frankfurt/\n",
    "                                    - frankfurt...\n",
    "                            \n",
    "                      test/\n",
    "                            ...\n",
    "            proc/\n",
    "                 data/\n",
    "                      train/\n",
    "                            -  aachen_000000_000019.png\n",
    "                            -  aachen_000001_000019.png\n",
    "                      val/\n",
    "                          - ...\n",
    "                      test/\n",
    "                          - ...\n",
    "                 labels/\n",
    "                      train/\n",
    "                            -  aachen_000000_000019.png\n",
    "                            -  aachen_000001_000019.png\n",
    "                      val/\n",
    "                          -...\n",
    "                      test/\n",
    "     \n",
    "```\n",
    "\n",
    "You observe the following: \n",
    "\n",
    "- the Chargrid data folder is divided into two section: `raw` contains the data naming and folder conventions as downlodaed; `proc` contains the data and folder structure after processing the raw data\n",
    "- we get rid of subfolders with city names (redundant information since already contained in file names)\n",
    "- in `proc`, data and labels have the exact same file name if they map to each other, its the `labels` and `data` folders that allows to distinguish between them\n"
   ]
  },
  {
   "cell_type": "markdown",
   "metadata": {},
   "source": [
    "# Setup"
   ]
  },
  {
   "cell_type": "markdown",
   "metadata": {},
   "source": [
    "Make sure environment variables are set:\n",
    " \n",
    "- `$PYTHONPATH` maps to `code/`\n",
    "- `$DATAPATH` maps to `data/`\n",
    "    "
   ]
  },
  {
   "cell_type": "code",
   "execution_count": 15,
   "metadata": {},
   "outputs": [],
   "source": [
    "#from utils.get_paths import get_paths\n",
    "\n",
    "import argparse\n",
    "import shutil\n",
    "\n",
    "import tqdm\n",
    "import numpy as np\n",
    "from PIL import Image\n",
    "from collections import namedtuple\n",
    "import os"
   ]
  },
  {
   "cell_type": "markdown",
   "metadata": {},
   "source": [
    "# Download Cityscapes\n",
    "Followed the step described [here](https://towardsdatascience.com/download-city-scapes-dataset-with-script-3061f87b20d7):\n",
    "1. Register e-mail address and password.\n",
    "2. Download Data - Package IDs 1,3\n",
    "3. Unzip both files.\n",
    "4. Move unzipped files to a a directory `Chargrid/raw/`"
   ]
  },
  {
   "cell_type": "code",
   "execution_count": 7,
   "metadata": {},
   "outputs": [],
   "source": [
    "%%bash\n",
    "\n",
    "# put your ID & password here\n",
    "# wget --keep-session-cookies --save-cookies=cookies.txt --post-data 'username=myusername&password=mypassword&submit=Login' https://www.cityscapes-dataset.com/login/;\n",
    "\n",
    "# exececute this twice: once with ID=1, once with ID=3\n",
    "# wget --load-cookies cookies.txt --content-disposition https://www.cityscapes-dataset.com/file-handling/?packageID=1;\n",
    "# wget --load-cookies cookies.txt --content-disposition https://www.cityscapes-dataset.com/file-handling/?packageID=3;\n",
    "\n",
    "# unzip gtFine_trainvaltest.zip;\n",
    "# unzip leftImg8bit_trainvaltest.zip;\n",
    "\n",
    "# mkdir -p $DATAPATH/Chargrid/raw;\n",
    "# mv gtFine $DATAPATH/Chargrid/raw;\n",
    "# mv leftImg8bit $DATAPATH/Chargrid/raw\n"
   ]
  },
  {
   "cell_type": "markdown",
   "metadata": {},
   "source": [
    "# Cityscapes Conventions\n",
    "\n",
    "Next, we define and follow the preprocessing conventions as proposed by the Cityscapes authors."
   ]
  },
  {
   "cell_type": "code",
   "execution_count": 11,
   "metadata": {},
   "outputs": [
    {
     "ename": "NameError",
     "evalue": "name 'namedtuple' is not defined",
     "output_type": "error",
     "traceback": [
      "\u001b[0;31m---------------------------------------------------------------------------\u001b[0m",
      "\u001b[0;31mNameError\u001b[0m                                 Traceback (most recent call last)",
      "\u001b[0;32m<ipython-input-11-97d488601ea3>\u001b[0m in \u001b[0;36m<module>\u001b[0;34m\u001b[0m\n\u001b[1;32m      9\u001b[0m \u001b[0;34m\u001b[0m\u001b[0m\n\u001b[1;32m     10\u001b[0m \u001b[0;31m# (NOTE! this is taken from the official Cityscapes scripts:)\u001b[0m\u001b[0;34m\u001b[0m\u001b[0;34m\u001b[0m\u001b[0;34m\u001b[0m\u001b[0m\n\u001b[0;32m---> 11\u001b[0;31m Label = namedtuple('Label', [\n\u001b[0m\u001b[1;32m     12\u001b[0m \u001b[0;34m\u001b[0m\u001b[0m\n\u001b[1;32m     13\u001b[0m     \u001b[0;34m'name'\u001b[0m\u001b[0;34m,\u001b[0m  \u001b[0;31m# The identifier of this label, e.g. 'car', 'person', ... .\u001b[0m\u001b[0;34m\u001b[0m\u001b[0;34m\u001b[0m\u001b[0m\n",
      "\u001b[0;31mNameError\u001b[0m: name 'namedtuple' is not defined"
     ]
    }
   ],
   "source": [
    "\n",
    "\n",
    "# NOTE: currently not optimized for speed since one-time cost; possible speed-ups are:\n",
    "# (a) multiprocessing\n",
    "# (b) not looping through images one by one when copying images from raw to meta\n",
    "# (c) calculating class weights and normalization constant on the go (instead of re-reading them into memory)\n",
    "\n",
    "################################\n",
    "# GROUND TRUTH LABELS CITYSCAPES\n",
    "################################\n",
    "\n",
    "# (NOTE! this is taken from the official Cityscapes scripts:)\n",
    "Label = namedtuple('Label', [\n",
    "\n",
    "    'name',  # The identifier of this label, e.g. 'car', 'person', ... .\n",
    "    # We use them to uniquely name a class\n",
    "\n",
    "    'id',  # An integer ID that is associated with this label.\n",
    "    # The IDs are used to represent the label in ground truth images\n",
    "    # An ID of -1 means that this label does not have an ID and thus\n",
    "    # is ignored when creating ground truth images (e.g. license plate).\n",
    "    # Do not modify these IDs, since exactly these IDs are expected by the\n",
    "    # old_evaluation server.\n",
    "\n",
    "    'trainId',  # Feel free to modify these IDs as suitable for your method. Then create\n",
    "    # ground truth images with train IDs, using the tools provided in the\n",
    "    # 'preparation' folder. However, make sure to validate or submit results\n",
    "    # to our old_evaluation server using the regular IDs above!\n",
    "    # For trainIds, multiple labels might have the same ID. Then, these labels\n",
    "    # are mapped to the same class in the ground truth images. For the inverse\n",
    "    # mapping, we use the label that is defined first in the list below.\n",
    "    # For example, mapping all void-type classes to the same ID in training,\n",
    "    # might make sense for some approaches.\n",
    "    # Max value is 255!\n",
    "\n",
    "    'category',  # The name of the category that this label belongs to\n",
    "\n",
    "    'categoryId',  # The ID of this category. Used to create ground truth images\n",
    "    # on category level.\n",
    "\n",
    "    'hasInstances',  # Whether this label distinguishes between single instances or not\n",
    "\n",
    "    'ignoreInEval',  # Whether pixels having this class as ground truth label are ignored\n",
    "    # during evaluations or not\n",
    "\n",
    "    'color',  # The color of this label\n",
    "])\n",
    "\n",
    "# (NOTE! this is taken from the official Cityscapes scripts:)\n",
    "labels = [\n",
    "    #       name                     id    trainId   category            catId     hasInstances   ignoreInEval   color\n",
    "    Label('unlabeled', 0, 19, 'void', 0, False, True, (0, 0, 0)),\n",
    "    Label('ego vehicle', 1, 19, 'void', 0, False, True, (0, 0, 0)),\n",
    "    Label('rectification border', 2, 19, 'void', 0, False, True, (0, 0, 0)),\n",
    "    Label('out of roi', 3, 19, 'void', 0, False, True, (0, 0, 0)),\n",
    "    Label('static', 4, 19, 'void', 0, False, True, (0, 0, 0)),\n",
    "    Label('dynamic', 5, 19, 'void', 0, False, True, (111, 74, 0)),\n",
    "    Label('ground', 6, 19, 'void', 0, False, True, (81, 0, 81)),\n",
    "    Label('road', 7, 0, 'flat', 1, False, False, (128, 64, 128)),\n",
    "    Label('sidewalk', 8, 1, 'flat', 1, False, False, (244, 35, 232)),\n",
    "    Label('parking', 9, 19, 'flat', 1, False, True, (250, 170, 160)),\n",
    "    Label('rail track', 10, 19, 'flat', 1, False, True, (230, 150, 140)),\n",
    "    Label('building', 11, 2, 'construction', 2, False, False, (70, 70, 70)),\n",
    "    Label('wall', 12, 3, 'construction', 2, False, False, (102, 102, 156)),\n",
    "    Label('fence', 13, 4, 'construction', 2, False, False, (190, 153, 153)),\n",
    "    Label('guard rail', 14, 19, 'construction', 2, False, True, (180, 165, 180)),\n",
    "    Label('bridge', 15, 19, 'construction', 2, False, True, (150, 100, 100)),\n",
    "    Label('tunnel', 16, 19, 'construction', 2, False, True, (150, 120, 90)),\n",
    "    Label('pole', 17, 5, 'object', 3, False, False, (153, 153, 153)),\n",
    "    Label('polegroup', 18, 19, 'object', 3, False, True, (153, 153, 153)),\n",
    "    Label('traffic light', 19, 6, 'object', 3, False, False, (250, 170, 30)),\n",
    "    Label('traffic sign', 20, 7, 'object', 3, False, False, (220, 220, 0)),\n",
    "    Label('vegetation', 21, 8, 'nature', 4, False, False, (107, 142, 35)),\n",
    "    Label('terrain', 22, 9, 'nature', 4, False, False, (152, 251, 152)),\n",
    "    Label('sky', 23, 10, 'sky', 5, False, False, (70, 130, 180)),\n",
    "    Label('person', 24, 11, 'human', 6, True, False, (220, 20, 60)),\n",
    "    Label('rider', 25, 12, 'human', 6, True, False, (255, 0, 0)),\n",
    "    Label('car', 26, 13, 'vehicle', 7, True, False, (0, 0, 142)),\n",
    "    Label('truck', 27, 14, 'vehicle', 7, True, False, (0, 0, 70)),\n",
    "    Label('bus', 28, 15, 'vehicle', 7, True, False, (0, 60, 100)),\n",
    "    Label('caravan', 29, 19, 'vehicle', 7, True, True, (0, 0, 90)),\n",
    "    Label('trailer', 30, 19, 'vehicle', 7, True, True, (0, 0, 110)),\n",
    "    Label('train', 31, 16, 'vehicle', 7, True, False, (0, 80, 100)),\n",
    "    Label('motorcycle', 32, 17, 'vehicle', 7, True, False, (0, 0, 230)),\n",
    "    Label('bicycle', 33, 18, 'vehicle', 7, True, False, (119, 11, 32)),\n",
    "    Label('license plate', -1, 19, 'vehicle', 7, False, True, (0, 0, 142)),\n",
    "]\n",
    "\n",
    "# create a function which maps id to trainId:\n",
    "id_to_trainId = {label.id: label.trainId for label in labels}\n",
    "id_to_trainId_map_func = np.vectorize(id_to_trainId.get)\n",
    "\n",
    "train_dirs = [\"jena/\", \"zurich/\", \"weimar/\", \"ulm/\", \"tubingen/\", \"stuttgart/\",\n",
    "              \"strasbourg/\", \"monchengladbach/\", \"krefeld/\", \"hanover/\",\n",
    "              \"hamburg/\", \"erfurt/\", \"dusseldorf/\", \"darmstadt/\", \"cologne/\",\n",
    "              \"bremen/\", \"bochum/\", \"aachen/\"]\n",
    "val_dirs = [\"frankfurt/\", \"munster/\", \"lindau/\"]\n",
    "test_dirs = [\"berlin\", \"bielefeld\", \"bonn\", \"leverkusen\", \"mainz\", \"munich\"]"
   ]
  },
  {
   "cell_type": "code",
   "execution_count": 17,
   "metadata": {},
   "outputs": [
    {
     "ename": "KeyError",
     "evalue": "'DATAPATH'",
     "output_type": "error",
     "traceback": [
      "\u001b[0;31m---------------------------------------------------------------------------\u001b[0m",
      "\u001b[0;31mKeyError\u001b[0m                                  Traceback (most recent call last)",
      "\u001b[0;32m<ipython-input-17-2ffff2589ebb>\u001b[0m in \u001b[0;36m<module>\u001b[0;34m\u001b[0m\n\u001b[0;32m----> 1\u001b[0;31m \u001b[0mDATAPATH\u001b[0m \u001b[0;34m=\u001b[0m \u001b[0mos\u001b[0m\u001b[0;34m.\u001b[0m\u001b[0menviron\u001b[0m\u001b[0;34m[\u001b[0m\u001b[0;34m'DATAPATH'\u001b[0m\u001b[0;34m]\u001b[0m\u001b[0;34m\u001b[0m\u001b[0;34m\u001b[0m\u001b[0m\n\u001b[0m\u001b[1;32m      2\u001b[0m \u001b[0mRAWPATH\u001b[0m \u001b[0;34m=\u001b[0m \u001b[0mos\u001b[0m\u001b[0;34m.\u001b[0m\u001b[0mpath\u001b[0m\u001b[0;34m.\u001b[0m\u001b[0mjoin\u001b[0m\u001b[0;34m(\u001b[0m\u001b[0mDATAPATH\u001b[0m\u001b[0;34m,\u001b[0m \u001b[0;34m'Cityscapes'\u001b[0m\u001b[0;34m,\u001b[0m\u001b[0;34m'raw'\u001b[0m\u001b[0;34m)\u001b[0m\u001b[0;34m\u001b[0m\u001b[0;34m\u001b[0m\u001b[0m\n\u001b[1;32m      3\u001b[0m \u001b[0;32mif\u001b[0m \u001b[0;32mnot\u001b[0m \u001b[0mos\u001b[0m\u001b[0;34m.\u001b[0m\u001b[0mpath\u001b[0m\u001b[0;34m.\u001b[0m\u001b[0mexists\u001b[0m\u001b[0;34m(\u001b[0m\u001b[0mRAWPATH\u001b[0m\u001b[0;34m)\u001b[0m\u001b[0;34m:\u001b[0m\u001b[0;34m\u001b[0m\u001b[0;34m\u001b[0m\u001b[0m\n\u001b[1;32m      4\u001b[0m     \u001b[0mos\u001b[0m\u001b[0;34m.\u001b[0m\u001b[0mmakedirs\u001b[0m\u001b[0;34m(\u001b[0m\u001b[0mRAWPATH\u001b[0m\u001b[0;34m)\u001b[0m\u001b[0;34m\u001b[0m\u001b[0;34m\u001b[0m\u001b[0m\n\u001b[1;32m      5\u001b[0m \u001b[0mpaths\u001b[0m \u001b[0;34m=\u001b[0m \u001b[0mget_paths_for_dataset\u001b[0m\u001b[0;34m(\u001b[0m\u001b[0;34m'Cityscapes'\u001b[0m\u001b[0;34m)\u001b[0m\u001b[0;34m\u001b[0m\u001b[0;34m\u001b[0m\u001b[0m\n",
      "\u001b[0;32m/opt/conda/lib/python3.7/os.py\u001b[0m in \u001b[0;36m__getitem__\u001b[0;34m(self, key)\u001b[0m\n\u001b[1;32m    677\u001b[0m         \u001b[0;32mexcept\u001b[0m \u001b[0mKeyError\u001b[0m\u001b[0;34m:\u001b[0m\u001b[0;34m\u001b[0m\u001b[0;34m\u001b[0m\u001b[0m\n\u001b[1;32m    678\u001b[0m             \u001b[0;31m# raise KeyError with the original key value\u001b[0m\u001b[0;34m\u001b[0m\u001b[0;34m\u001b[0m\u001b[0;34m\u001b[0m\u001b[0m\n\u001b[0;32m--> 679\u001b[0;31m             \u001b[0;32mraise\u001b[0m \u001b[0mKeyError\u001b[0m\u001b[0;34m(\u001b[0m\u001b[0mkey\u001b[0m\u001b[0;34m)\u001b[0m \u001b[0;32mfrom\u001b[0m \u001b[0;32mNone\u001b[0m\u001b[0;34m\u001b[0m\u001b[0;34m\u001b[0m\u001b[0m\n\u001b[0m\u001b[1;32m    680\u001b[0m         \u001b[0;32mreturn\u001b[0m \u001b[0mself\u001b[0m\u001b[0;34m.\u001b[0m\u001b[0mdecodevalue\u001b[0m\u001b[0;34m(\u001b[0m\u001b[0mvalue\u001b[0m\u001b[0;34m)\u001b[0m\u001b[0;34m\u001b[0m\u001b[0;34m\u001b[0m\u001b[0m\n\u001b[1;32m    681\u001b[0m \u001b[0;34m\u001b[0m\u001b[0m\n",
      "\u001b[0;31mKeyError\u001b[0m: 'DATAPATH'"
     ]
    }
   ],
   "source": [
    "DATAPATH = os.environ['DATAPATH']\n",
    "RAWPATH = os.path.join(DATAPATH, 'Cityscapes','raw')\n",
    "if not os.path.exists(RAWPATH):\n",
    "    os.makedirs(RAWPATH)\n",
    "paths = get_paths_for_dataset('Cityscapes')\n",
    "print(RAWPATH,paths)"
   ]
  },
  {
   "cell_type": "code",
   "execution_count": 18,
   "metadata": {},
   "outputs": [
    {
     "name": "stderr",
     "output_type": "stream",
     "text": [
      "  0%|          | 0/3 [00:00<?, ?it/s]"
     ]
    },
    {
     "name": "stdout",
     "output_type": "stream",
     "text": [
      "\n",
      "Preprocessing data and labels for fold: train\n"
     ]
    },
    {
     "name": "stderr",
     "output_type": "stream",
     "text": [
      "\n"
     ]
    },
    {
     "ename": "NameError",
     "evalue": "name 'RAWPATH' is not defined",
     "output_type": "error",
     "traceback": [
      "\u001b[0;31m---------------------------------------------------------------------------\u001b[0m",
      "\u001b[0;31mNameError\u001b[0m                                 Traceback (most recent call last)",
      "\u001b[0;32m<ipython-input-18-1733a8c817b2>\u001b[0m in \u001b[0;36m<module>\u001b[0;34m\u001b[0m\n\u001b[1;32m      1\u001b[0m \u001b[0;32mfor\u001b[0m \u001b[0mi\u001b[0m \u001b[0;32min\u001b[0m \u001b[0mtqdm\u001b[0m\u001b[0;34m.\u001b[0m\u001b[0mtqdm\u001b[0m\u001b[0;34m(\u001b[0m\u001b[0;34m[\u001b[0m\u001b[0;34m'train'\u001b[0m\u001b[0;34m,\u001b[0m \u001b[0;34m'val'\u001b[0m\u001b[0;34m,\u001b[0m \u001b[0;34m'test'\u001b[0m\u001b[0;34m]\u001b[0m\u001b[0;34m)\u001b[0m\u001b[0;34m:\u001b[0m\u001b[0;34m\u001b[0m\u001b[0;34m\u001b[0m\u001b[0m\n\u001b[1;32m      2\u001b[0m     \u001b[0mprint\u001b[0m\u001b[0;34m(\u001b[0m\u001b[0;34mf'\\nPreprocessing data and labels for fold: {i}'\u001b[0m\u001b[0;34m)\u001b[0m\u001b[0;34m\u001b[0m\u001b[0;34m\u001b[0m\u001b[0m\n\u001b[0;32m----> 3\u001b[0;31m     \u001b[0mimg_dir\u001b[0m \u001b[0;34m=\u001b[0m \u001b[0mos\u001b[0m\u001b[0;34m.\u001b[0m\u001b[0mpath\u001b[0m\u001b[0;34m.\u001b[0m\u001b[0mjoin\u001b[0m\u001b[0;34m(\u001b[0m\u001b[0mRAWPATH\u001b[0m\u001b[0;34m,\u001b[0m \u001b[0;34m'leftImg8bit'\u001b[0m\u001b[0;34m,\u001b[0m \u001b[0mi\u001b[0m\u001b[0;34m)\u001b[0m\u001b[0;34m\u001b[0m\u001b[0;34m\u001b[0m\u001b[0m\n\u001b[0m\u001b[1;32m      4\u001b[0m     \u001b[0mlabel_dir\u001b[0m \u001b[0;34m=\u001b[0m \u001b[0mos\u001b[0m\u001b[0;34m.\u001b[0m\u001b[0mpath\u001b[0m\u001b[0;34m.\u001b[0m\u001b[0mjoin\u001b[0m\u001b[0;34m(\u001b[0m\u001b[0mRAWPATH\u001b[0m\u001b[0;34m,\u001b[0m \u001b[0;34m'gtFine'\u001b[0m\u001b[0;34m,\u001b[0m \u001b[0mi\u001b[0m\u001b[0;34m)\u001b[0m\u001b[0;34m\u001b[0m\u001b[0;34m\u001b[0m\u001b[0m\n\u001b[1;32m      5\u001b[0m \u001b[0;34m\u001b[0m\u001b[0m\n",
      "\u001b[0;31mNameError\u001b[0m: name 'RAWPATH' is not defined"
     ]
    }
   ],
   "source": [
    "for i in tqdm.tqdm(['train', 'val', 'test']):\n",
    "    print(f'\\nPreprocessing data and labels for fold: {i}')\n",
    "    img_dir = os.path.join(RAWPATH, 'leftImg8bit', i)\n",
    "    label_dir = os.path.join(RAWPATH, 'gtFine', i)\n",
    "    \n",
    "    for city_dir in tqdm.tqdm(eval(i + '_dirs')):\n",
    "        img_dir_path = os.path.join(img_dir, city_dir)\n",
    "        label_dir_path = os.path.join(label_dir, city_dir)\n",
    "        file_names = os.listdir(img_dir_path)\n",
    "\n",
    "        for file_name in file_names:\n",
    "            img_id = file_name.split(\"_leftImg8bit.png\")[0]\n",
    "\n",
    "            # convert gtFine_img from id to trainId pixel values\n",
    "            # store in meta/labels_data_preprocessed/{train/val}\n",
    "            gtFine_img_path = os.path.join(label_dir_path, img_id + \"_gtFine_labelIds.png\")\n",
    "            gtFine_img = Image.open(gtFine_img_path)\n",
    "            label_img = id_to_trainId_map_func(gtFine_img)\n",
    "            label_img = Image.fromarray(label_img.astype(np.uint8))\n",
    "            key = 'labels_' + i\n",
    "            out_path_label = os.path.join(paths['proc']['labels'][i], img_id + '.png')\n",
    "            label_img.save(out_path_label)\n",
    "\n",
    "            # copy 'preprocessed' image to Chartrid/proc/{train/val/test}\n",
    "            in_path_image = os.path.join(img_dir_path, file_name)\n",
    "            out_path_image = os.path.join(paths['proc']['data'][i], img_id + '.png')\n",
    "            shutil.copy(in_path_image, out_path_image)  # no meta-data copied"
   ]
  },
  {
   "cell_type": "code",
   "execution_count": null,
   "metadata": {},
   "outputs": [],
   "source": []
  }
 ],
 "metadata": {
  "kernelspec": {
   "display_name": "Python 3",
   "language": "python",
   "name": "python3"
  },
  "language_info": {
   "codemirror_mode": {
    "name": "ipython",
    "version": 3
   },
   "file_extension": ".py",
   "mimetype": "text/x-python",
   "name": "python",
   "nbconvert_exporter": "python",
   "pygments_lexer": "ipython3",
   "version": "3.7.6"
  }
 },
 "nbformat": 4,
 "nbformat_minor": 4
}
