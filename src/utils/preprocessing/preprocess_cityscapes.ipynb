{
 "cells": [
  {
   "cell_type": "code",
   "execution_count": 3,
   "metadata": {},
   "outputs": [],
   "source": [
    "#pip install numpy Pillow"
   ]
  },
  {
   "cell_type": "code",
   "execution_count": 4,
   "metadata": {},
   "outputs": [],
   "source": [
    "import os\n",
    "import tqdm\n",
    "import numpy as np\n",
    "from PIL import Image\n",
    "from collections import namedtuple\n",
    "from PIL import Image\n",
    "from collections import namedtuple\n",
    "import shutil"
   ]
  },
  {
   "cell_type": "markdown",
   "metadata": {},
   "source": [
    "# Download and Preprocess Cityscapes\n",
    "\n",
    "You need first to register to download the Cityscapes data: \n",
    "\n",
    "https://www.cityscapes-dataset.com/login/\n",
    "\n",
    "We'll need datasets with ID 1 and 3 (fine annotations only)\n",
    "\n",
    "Set your password and user name in these three commands:\n",
    "\n",
    "\n",
    "```\n",
    "wget --keep-session-cookies --save-cookies=cookies.txt --post-data 'username=myusername&password=mypassword&submit=Login' https://www.cityscapes-dataset.com/login/\n",
    "```\n",
    "\n",
    "```\n",
    "wget --keep-session-cookies --save-cookies=cookies.txt --post-data 'username=pjamscik&password=9g@@sYe9zRBsrpQ&submit=Login' https://www.cityscapes-dataset.com/login/\n",
    "\n",
    "```\n",
    "\n",
    "```\n",
    "wget --load-cookies cookies.txt --content-disposition https://www.cityscapes-dataset.com/file-handling/?packageID=3\n",
    "```\n",
    "\n",
    "Next unzip both zipped folders:\n",
    "\n",
    "```\n",
    "unzip leftImg8bit_trainvaltest.zip\n",
    "unzip gtFine_trainvaltest.zip \n",
    "```\n",
    "\n",
    "We refer to the folder in which the data has been unzipped as `$RAW_DATAPATH`.\n",
    "\n",
    "The target folder where we will store the preprocessed png files `$PROC_DATAPATH`.\n",
    "\n",
    "After running this script we expect (a) **20 ground truth classes** and (b) `$PROC_DATAPATH` mapping to proc/, and a subdirectory structure as follows:\n",
    "\n",
    "```\n",
    "\n",
    "proc/\n",
    "  data/\n",
    "       train/\n",
    "             -  file_name_1.png\n",
    "             -  file_name_2.png\n",
    "       val/\n",
    "           - ...\n",
    "       test/\n",
    "           - ...\n",
    "  labels/\n",
    "       train/\n",
    "             -  file_name_1.png\n",
    "             -  file_name_2.png\n",
    "       val/\n",
    "           -...\n",
    "       test/\n",
    "\n",
    "````\n",
    "\n",
    "Data and labels will have the same file names, it is their parent folder that allows to differentiate between them.\n"
   ]
  },
  {
   "cell_type": "markdown",
   "metadata": {},
   "source": [
    "## Cityscapes Conventions\n",
    "\n",
    "We'll make use of 20 non-void classes as suggested here:\n",
    "\n",
    "https://github.com/mcordts/cityscapesScripts/blob/master/cityscapesscripts/helpers/labels.py"
   ]
  },
  {
   "cell_type": "code",
   "execution_count": 5,
   "metadata": {},
   "outputs": [],
   "source": [
    "# NOTE: currently not optimized for speed since one-time cost; possible speed-ups are:\n",
    "# (a) multiprocessing\n",
    "# (b) not looping through images one by one when copying images from raw to meta\n",
    "# (c) calculating class weights and normalization constant on the go (instead of re-reading them into memory)\n",
    "\n",
    "################################\n",
    "# GROUND TRUTH LABELS CITYSCAPES\n",
    "################################\n",
    "\n",
    "# (NOTE! this is taken from the official Cityscapes scripts:)\n",
    "Label = namedtuple('Label', [\n",
    "\n",
    "    'name',  # The identifier of this label, e.g. 'car', 'person', ... .\n",
    "    # We use them to uniquely name a class\n",
    "\n",
    "    'id',  # An integer ID that is associated with this label.\n",
    "    # The IDs are used to represent the label in ground truth images\n",
    "    # An ID of -1 means that this label does not have an ID and thus\n",
    "    # is ignored when creating ground truth images (e.g. license plate).\n",
    "    # Do not modify these IDs, since exactly these IDs are expected by the\n",
    "    # old_evaluation server.\n",
    "\n",
    "    'trainId',  # Feel free to modify these IDs as suitable for your method. Then create\n",
    "    # ground truth images with train IDs, using the tools provided in the\n",
    "    # 'preparation' folder. However, make sure to validate or submit results\n",
    "    # to our old_evaluation server using the regular IDs above!\n",
    "    # For trainIds, multiple labels might have the same ID. Then, these labels\n",
    "    # are mapped to the same class in the ground truth images. For the inverse\n",
    "    # mapping, we use the label that is defined first in the list below.\n",
    "    # For example, mapping all void-type classes to the same ID in training,\n",
    "    # might make sense for some approaches.\n",
    "    # Max value is 255!\n",
    "\n",
    "    'category',  # The name of the category that this label belongs to\n",
    "\n",
    "    'categoryId',  # The ID of this category. Used to create ground truth images\n",
    "    # on category level.\n",
    "\n",
    "    'hasInstances',  # Whether this label distinguishes between single instances or not\n",
    "\n",
    "    'ignoreInEval',  # Whether pixels having this class as ground truth label are ignored\n",
    "    # during evaluations or not\n",
    "\n",
    "    'color',  # The color of this label\n",
    "])\n",
    "\n",
    "# (NOTE! this is taken from the official Cityscapes scripts:)\n",
    "labels = [\n",
    "    #       name                     id    trainId   category            catId     hasInstances   ignoreInEval   color\n",
    "    Label('unlabeled', 0, 19, 'void', 0, False, True, (0, 0, 0)),\n",
    "    Label('ego vehicle', 1, 19, 'void', 0, False, True, (0, 0, 0)),\n",
    "    Label('rectification border', 2, 19, 'void', 0, False, True, (0, 0, 0)),\n",
    "    Label('out of roi', 3, 19, 'void', 0, False, True, (0, 0, 0)),\n",
    "    Label('static', 4, 19, 'void', 0, False, True, (0, 0, 0)),\n",
    "    Label('dynamic', 5, 19, 'void', 0, False, True, (111, 74, 0)),\n",
    "    Label('ground', 6, 19, 'void', 0, False, True, (81, 0, 81)),\n",
    "    Label('road', 7, 0, 'flat', 1, False, False, (128, 64, 128)),\n",
    "    Label('sidewalk', 8, 1, 'flat', 1, False, False, (244, 35, 232)),\n",
    "    Label('parking', 9, 19, 'flat', 1, False, True, (250, 170, 160)),\n",
    "    Label('rail track', 10, 19, 'flat', 1, False, True, (230, 150, 140)),\n",
    "    Label('building', 11, 2, 'construction', 2, False, False, (70, 70, 70)),\n",
    "    Label('wall', 12, 3, 'construction', 2, False, False, (102, 102, 156)),\n",
    "    Label('fence', 13, 4, 'construction', 2, False, False, (190, 153, 153)),\n",
    "    Label('guard rail', 14, 19, 'construction', 2, False, True, (180, 165, 180)),\n",
    "    Label('bridge', 15, 19, 'construction', 2, False, True, (150, 100, 100)),\n",
    "    Label('tunnel', 16, 19, 'construction', 2, False, True, (150, 120, 90)),\n",
    "    Label('pole', 17, 5, 'object', 3, False, False, (153, 153, 153)),\n",
    "    Label('polegroup', 18, 19, 'object', 3, False, True, (153, 153, 153)),\n",
    "    Label('traffic light', 19, 6, 'object', 3, False, False, (250, 170, 30)),\n",
    "    Label('traffic sign', 20, 7, 'object', 3, False, False, (220, 220, 0)),\n",
    "    Label('vegetation', 21, 8, 'nature', 4, False, False, (107, 142, 35)),\n",
    "    Label('terrain', 22, 9, 'nature', 4, False, False, (152, 251, 152)),\n",
    "    Label('sky', 23, 10, 'sky', 5, False, False, (70, 130, 180)),\n",
    "    Label('person', 24, 11, 'human', 6, True, False, (220, 20, 60)),\n",
    "    Label('rider', 25, 12, 'human', 6, True, False, (255, 0, 0)),\n",
    "    Label('car', 26, 13, 'vehicle', 7, True, False, (0, 0, 142)),\n",
    "    Label('truck', 27, 14, 'vehicle', 7, True, False, (0, 0, 70)),\n",
    "    Label('bus', 28, 15, 'vehicle', 7, True, False, (0, 60, 100)),\n",
    "    Label('caravan', 29, 19, 'vehicle', 7, True, True, (0, 0, 90)),\n",
    "    Label('trailer', 30, 19, 'vehicle', 7, True, True, (0, 0, 110)),\n",
    "    Label('train', 31, 16, 'vehicle', 7, True, False, (0, 80, 100)),\n",
    "    Label('motorcycle', 32, 17, 'vehicle', 7, True, False, (0, 0, 230)),\n",
    "    Label('bicycle', 33, 18, 'vehicle', 7, True, False, (119, 11, 32)),\n",
    "    Label('license plate', -1, 19, 'vehicle', 7, False, True, (0, 0, 142)),\n",
    "]\n",
    "\n",
    "# create a function which maps id to trainId:\n",
    "id_to_trainId = {label.id: label.trainId for label in labels}\n",
    "id_to_trainId_map_func = np.vectorize(id_to_trainId.get)\n",
    "\n",
    "train_dirs = [\"jena/\", \"zurich/\", \"weimar/\", \"ulm/\", \"tubingen/\", \"stuttgart/\",\n",
    "              \"strasbourg/\", \"monchengladbach/\", \"krefeld/\", \"hanover/\",\n",
    "              \"hamburg/\", \"erfurt/\", \"dusseldorf/\", \"darmstadt/\", \"cologne/\",\n",
    "              \"bremen/\", \"bochum/\", \"aachen/\"]\n",
    "val_dirs = [\"frankfurt/\", \"munster/\", \"lindau/\"]\n",
    "test_dirs = [\"berlin\", \"bielefeld\", \"bonn\", \"leverkusen\", \"mainz\", \"munich\"]"
   ]
  },
  {
   "cell_type": "markdown",
   "metadata": {},
   "source": [
    "## Paths "
   ]
  },
  {
   "cell_type": "code",
   "execution_count": 6,
   "metadata": {},
   "outputs": [],
   "source": [
    "# don't copy this blindly, but adjust it to your folder strucure \n",
    "os.environ['RAW_DATAPATH'] = os.path.join(os.environ['HOME'], 'Data', 'Backup_Orig_Data', 'Cityscapes')\n",
    "os.environ['PROC_DATAPATH'] = os.path.join(os.environ['HOME'], 'Data', 'Processed_Data', 'Cityscapes')"
   ]
  },
  {
   "cell_type": "code",
   "execution_count": 7,
   "metadata": {},
   "outputs": [
    {
     "data": {
      "text/plain": [
       "('/home/pjamscik/Data/Backup_Orig_Data/Cityscapes',\n",
       " '/home/pjamscik/Data/Processed_Data/Cityscapes')"
      ]
     },
     "execution_count": 7,
     "metadata": {},
     "output_type": "execute_result"
    }
   ],
   "source": [
    "os.environ['RAW_DATAPATH'], os.environ['PROC_DATAPATH']"
   ]
  },
  {
   "cell_type": "code",
   "execution_count": 8,
   "metadata": {},
   "outputs": [],
   "source": [
    "! rm -rf  /home/pjamscik/Data/Processed_Data/Cityscapes/*"
   ]
  },
  {
   "cell_type": "code",
   "execution_count": 11,
   "metadata": {},
   "outputs": [],
   "source": [
    "paths = dict()\n",
    "for i in ['data', 'labels']:\n",
    "    paths[i] = dict()\n",
    "    for j in ['train','val','test']:\n",
    "        paths[i][j] = os.path.join(os.environ['PROC_DATAPATH'],i,j)\n",
    "        os.makedirs(paths[i][j])"
   ]
  },
  {
   "cell_type": "markdown",
   "metadata": {},
   "source": [
    "## Copy & Modify \n",
    "\n",
    "We'll copy the pngs from `$RAW_DATAPATH` and change their file name. Additionally, we'll convert the labels to 20 classes."
   ]
  },
  {
   "cell_type": "code",
   "execution_count": 17,
   "metadata": {},
   "outputs": [
    {
     "name": "stderr",
     "output_type": "stream",
     "text": [
      "  0%|          | 0/3 [00:00<?, ?it/s]\n",
      "  0%|          | 0/18 [00:00<?, ?it/s]\u001b[A"
     ]
    },
    {
     "name": "stdout",
     "output_type": "stream",
     "text": [
      "\n",
      "Preprocessing data and labels for fold: train\n"
     ]
    },
    {
     "name": "stderr",
     "output_type": "stream",
     "text": [
      "\n",
      "  6%|▌         | 1/18 [00:31<08:56, 31.54s/it]\u001b[A\n",
      " 11%|█         | 2/18 [01:02<08:20, 31.30s/it]\u001b[A\n",
      " 17%|█▋        | 3/18 [01:38<08:11, 32.79s/it]\u001b[A\n",
      " 22%|██▏       | 4/18 [02:02<07:01, 30.14s/it]\u001b[A\n",
      " 28%|██▊       | 5/18 [02:39<06:57, 32.14s/it]\u001b[A\n",
      " 33%|███▎      | 6/18 [03:28<07:27, 37.27s/it]\u001b[A\n",
      " 39%|███▉      | 7/18 [05:00<09:50, 53.70s/it]\u001b[A\n",
      " 44%|████▍     | 8/18 [05:23<07:26, 44.61s/it]\u001b[A\n",
      " 50%|█████     | 9/18 [05:48<05:48, 38.70s/it]\u001b[A\n",
      " 56%|█████▌    | 10/18 [06:39<05:37, 42.15s/it]\u001b[A\n",
      " 61%|██████    | 11/18 [07:42<05:39, 48.56s/it]\u001b[A\n",
      " 67%|██████▋   | 12/18 [08:10<04:13, 42.23s/it]\u001b[A\n",
      " 72%|███████▏  | 13/18 [09:08<03:55, 47.05s/it]\u001b[A\n",
      " 78%|███████▊  | 14/18 [09:30<02:38, 39.65s/it]\u001b[A\n",
      " 83%|████████▎ | 15/18 [10:10<01:59, 39.73s/it]\u001b[A\n",
      " 89%|████████▉ | 16/18 [11:32<01:44, 52.49s/it]\u001b[A\n",
      " 94%|█████████▍| 17/18 [11:57<00:44, 44.03s/it]\u001b[A\n",
      "100%|██████████| 18/18 [12:42<00:00, 42.34s/it]\u001b[A\n",
      " 33%|███▎      | 1/3 [12:42<25:24, 762.12s/it]\n",
      "  0%|          | 0/3 [00:00<?, ?it/s]\u001b[A"
     ]
    },
    {
     "name": "stdout",
     "output_type": "stream",
     "text": [
      "\n",
      "Preprocessing data and labels for fold: val\n"
     ]
    },
    {
     "name": "stderr",
     "output_type": "stream",
     "text": [
      "\n",
      " 33%|███▎      | 1/3 [01:14<02:29, 74.60s/it]\u001b[A\n",
      " 67%|██████▋   | 2/3 [02:07<01:08, 68.22s/it]\u001b[A\n",
      "100%|██████████| 3/3 [02:25<00:00, 48.38s/it]\u001b[A\n",
      " 67%|██████▋   | 2/3 [15:07<09:37, 577.03s/it]\n",
      "  0%|          | 0/6 [00:00<?, ?it/s]\u001b[A"
     ]
    },
    {
     "name": "stdout",
     "output_type": "stream",
     "text": [
      "\n",
      "Preprocessing data and labels for fold: test\n"
     ]
    },
    {
     "name": "stderr",
     "output_type": "stream",
     "text": [
      "\n",
      " 17%|█▋        | 1/6 [02:47<13:55, 167.18s/it]\u001b[A\n",
      " 33%|███▎      | 2/6 [03:39<08:51, 132.85s/it]\u001b[A\n",
      " 50%|█████     | 3/6 [03:56<04:54, 98.09s/it] \u001b[A\n",
      " 67%|██████▋   | 4/6 [04:13<02:27, 73.52s/it]\u001b[A\n",
      " 83%|████████▎ | 5/6 [05:39<01:17, 77.49s/it]\u001b[A\n",
      "100%|██████████| 6/6 [07:40<00:00, 76.67s/it]\u001b[A\n",
      "100%|██████████| 3/3 [22:47<00:00, 455.77s/it]\n"
     ]
    }
   ],
   "source": [
    "for i in tqdm.tqdm(['train', 'val', 'test']):\n",
    "    print(f'\\nPreprocessing data and labels for fold: {i}')\n",
    "    img_dir = os.path.join(os.environ['RAW_DATAPATH'], 'leftImg8bit', i)\n",
    "    label_dir = os.path.join(os.environ['RAW_DATAPATH'],'gtFine', i)\n",
    "    \n",
    "    for city_dir in tqdm.tqdm(eval(i + '_dirs')):\n",
    "        img_dir_path = os.path.join(img_dir, city_dir)\n",
    "        label_dir_path = os.path.join(label_dir, city_dir)\n",
    "        file_names = os.listdir(img_dir_path)\n",
    "\n",
    "        for fn in file_names:\n",
    "            img_id = fn.split(\"_leftImg8bit.png\")[0]\n",
    "            \n",
    "            # copy data\n",
    "            inpath_image = os.path.join(img_dir_path, fn)\n",
    "            outpath_image = os.path.join(paths['data'][i], img_id + '.png')\n",
    "            shutil.copy(inpath_image, outpath_image)  # no meta-data copied\n",
    "            \n",
    "            # read-in, change labels, write-out\n",
    "            gtFine_img_path = os.path.join(label_dir_path, img_id + \"_gtFine_labelIds.png\")\n",
    "            gtFine_img = Image.open(gtFine_img_path)\n",
    "            label_img = id_to_trainId_map_func(gtFine_img)\n",
    "            label_img = Image.fromarray(label_img.astype(np.uint8))\n",
    "            out_path_label = os.path.join(paths['labels'][i], img_id + '.png')\n",
    "            label_img.save(out_path_label)\n",
    "              "
   ]
  },
  {
   "cell_type": "code",
   "execution_count": 18,
   "metadata": {},
   "outputs": [
    {
     "name": "stdout",
     "output_type": "stream",
     "text": [
      "carme_notes.txt  \u001b[0m\u001b[01;34mData\u001b[0m/                        \u001b[01;34mProjects\u001b[0m/\n",
      "cookies.txt      preprocess_cityscapes.ipynb  \u001b[01;34mResults\u001b[0m/\n"
     ]
    }
   ],
   "source": []
  },
  {
   "cell_type": "code",
   "execution_count": null,
   "metadata": {},
   "outputs": [],
   "source": []
  }
 ],
 "metadata": {
  "kernelspec": {
   "display_name": "Python 3",
   "language": "python",
   "name": "python3"
  },
  "language_info": {
   "codemirror_mode": {
    "name": "ipython",
    "version": 3
   },
   "file_extension": ".py",
   "mimetype": "text/x-python",
   "name": "python",
   "nbconvert_exporter": "python",
   "pygments_lexer": "ipython3",
   "version": "3.8.5"
  }
 },
 "nbformat": 4,
 "nbformat_minor": 4
}
